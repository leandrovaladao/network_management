{
 "cells": [
  {
   "cell_type": "code",
   "execution_count": 17,
   "metadata": {},
   "outputs": [
    {
     "data": {
      "text/plain": [
       "<Figure size 432x288 with 0 Axes>"
      ]
     },
     "metadata": {},
     "output_type": "display_data"
    },
    {
     "data": {
      "text/plain": [
       "<Figure size 432x288 with 0 Axes>"
      ]
     },
     "metadata": {},
     "output_type": "display_data"
    }
   ],
   "source": [
    "import matplotlib.pyplot as plt\n",
    "\n",
    "from pandas import read_csv\n",
    "\n",
    "\n",
    "def extract_file_x():\n",
    "    return read_csv('../X.csv')\n",
    "\n",
    "\n",
    "BASE_DIRECTORY = '../plots/task1/'\n",
    "\n",
    "\n",
    "def plot_cpu_and_memory():\n",
    "    columns = extract_file_x()\n",
    "    \n",
    "    columns.plot(x='TimeStamp', y=['all_..idle', 'X..memused'])\n",
    "    plt.legend(['Percentage of Idle CPU', 'Used Memory'])\n",
    "    plt.savefig(BASE_DIRECTORY+'exercicio3a.png', facecolor='w')\n",
    "    plt.clf()\n",
    "\n",
    "\n",
    "def plot_cpu_and_memory_graphs():\n",
    "    columns = extract_file_x()\n",
    "    plt.subplots(facecolor='w')\n",
    "    \n",
    "    single_column_dataframe = columns['X..memused']\n",
    "    single_column_dataframe.plot.kde()    \n",
    "    plt.legend(['Used Memory'])\n",
    "    plt.savefig(BASE_DIRECTORY+'exercicio3densitymemory.png')\n",
    "    plt.clf()\n",
    "\n",
    "    single_column_dataframe = columns['all_..idle']\n",
    "    single_column_dataframe.plot.kde()\n",
    "    plt.legend(['Percentage of Idle CPU'])\n",
    "    plt.savefig(BASE_DIRECTORY+'exercicio3densityidle.png')\n",
    "    plt.clf()\n",
    "\n",
    "    single_column_dataframe = columns['X..memused']\n",
    "    single_column_dataframe.plot.hist()\n",
    "    plt.legend(['Used Memory'])\n",
    "    plt.savefig(BASE_DIRECTORY+'exercicio3histmemory.png')\n",
    "    plt.clf()\n",
    "\n",
    "    single_column_dataframe = columns['all_..idle']\n",
    "    single_column_dataframe.plot.hist()\n",
    "    plt.legend(['Percentage of Idle CPU'])\n",
    "    plt.savefig(BASE_DIRECTORY+'exercicio3histidle.png')\n",
    "    plt.clf()\n",
    "\n",
    "    single_column_dataframe = columns['X..memused']\n",
    "    single_column_dataframe.plot.box()\n",
    "    plt.legend(['Used Memory'])\n",
    "    plt.xlabel('Used Memory')\n",
    "    plt.savefig(BASE_DIRECTORY+'exercicio3boxplotmemory.png')\n",
    "    plt.clf()\n",
    "\n",
    "    single_column_dataframe = columns['all_..idle']\n",
    "    single_column_dataframe.plot.box()\n",
    "    plt.legend(['Percentage of Idle CPU'])\n",
    "    plt.xlabel('Percentage of Idle CPU')\n",
    "    plt.savefig(BASE_DIRECTORY+'exercicio3boxplotidle.png')\n",
    "    plt.clf()\n",
    "\n",
    "\n",
    "plot_cpu_and_memory()\n",
    "plot_cpu_and_memory_graphs()\n"
   ]
  },
  {
   "cell_type": "code",
   "execution_count": null,
   "metadata": {},
   "outputs": [],
   "source": []
  }
 ],
 "metadata": {
  "anaconda-cloud": {},
  "kernelspec": {
   "display_name": "Python 3",
   "language": "python",
   "name": "python3"
  },
  "language_info": {
   "codemirror_mode": {
    "name": "ipython",
    "version": 3
   },
   "file_extension": ".py",
   "mimetype": "text/x-python",
   "name": "python",
   "nbconvert_exporter": "python",
   "pygments_lexer": "ipython3",
   "version": "3.8.5"
  }
 },
 "nbformat": 4,
 "nbformat_minor": 4
}
