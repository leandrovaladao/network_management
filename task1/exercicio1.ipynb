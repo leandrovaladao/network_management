{
 "cells": [
  {
   "cell_type": "code",
   "execution_count": null,
   "metadata": {
    "collapsed": true
   },
   "outputs": [],
   "source": [
    ""
   ]
  }
 ],
 "metadata": {
  "language_info": {
   "codemirror_mode": {
    "name": "ipython",
    "version": 2
   },
   "file_extension": ".py",
   "mimetype": "text/x-python",
   "name": "python",
   "nbconvert_exporter": "python",
   "pygments_lexer": "ipython2",
   "version": "2.7.6"
  },
  "kernelspec": {
   "name": "python3",
   "language": "python",
   "display_name": "Python 3"
  },
  "pycharm": {
   "stem_cell": {
    "cell_type": "raw",
    "source": [
     "import numpy as np\n",
     "\n",
     "from extract_csv import extract_file_x, extract_file_y\n",
     "\n",
     "\n",
     "def extract_x_data():\n",
     "    columns = extract_file_x()\n",
     "    for key in columns:\n",
     "        print('%s Calculation' % key)\n",
     "        print('Mean: ', np.mean(columns[key]))\n",
     "        print('Maximum: ', np.max(columns[key]))\n",
     "        print('Minimum: ', np.min(columns[key]))\n",
     "        print('25th percentile: ', np.percentile(columns[key], 25))\n",
     "        print('90th percentile: ', np.percentile(columns[key], 90))\n",
     "        print('Standard deviation: ', np.std(columns[key]))\n",
     "        print('\\n')\n",
     "\n",
     "\n",
     "def extract_y_data():\n",
     "    columns = extract_file_y()\n",
     "    for key in columns:\n",
     "        print('%s Calculation' % key)\n",
     "        print('Mean: ', np.mean(columns[key]))\n",
     "        print('Maximum: ', np.max(columns[key]))\n",
     "        print('Minimum: ', np.min(columns[key]))\n",
     "        print('25th percentile: ', np.percentile(columns[key], 25))\n",
     "        print('90th percentile: ', np.percentile(columns[key], 90))\n",
     "        print('Standard deviation: ', np.std(columns[key]))\n",
     "        print('\\n')\n",
     "\n",
     "\n",
     "extract_x_data()\n",
     "extract_y_data()"
    ],
    "metadata": {
     "collapsed": false
    }
   }
  }
 },
 "nbformat": 4,
 "nbformat_minor": 0
}