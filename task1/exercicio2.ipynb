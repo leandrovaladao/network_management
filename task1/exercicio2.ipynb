{
 "cells": [
  {
   "cell_type": "code",
   "execution_count": 1,
   "metadata": {},
   "outputs": [
    {
     "name": "stdout",
     "output_type": "stream",
     "text": [
      "Quantidade acima de 80%:  2875\n",
      "Media de conexões tcp:  46.34730538922156\n",
      "Minimo de memoria utilizada:  73.03\n"
     ]
    }
   ],
   "source": [
    "import numpy as np\n",
    "from pandas import read_csv\n",
    "\n",
    "\n",
    "def extract_file_x():\n",
    "    return read_csv('../X.csv')\n",
    "\n",
    "\n",
    "\n",
    "def get_number_of_observations_larger_than_eighty_percent():\n",
    "    columns = extract_file_x()\n",
    "    amount_value = 0\n",
    "    for it in columns['X..memused']:\n",
    "        if it > 80:\n",
    "            amount_value += 1\n",
    "\n",
    "    print('Quantidade acima de 80%: ', amount_value)\n",
    "\n",
    "\n",
    "def get_mean_of_tec_with_more_than_eighteen_thousand_interrupts():\n",
    "    columns = extract_file_x()\n",
    "    list_tcp = []\n",
    "    for index, it in enumerate(columns['sum_intr.s']):\n",
    "        if it > 18000:\n",
    "            list_tcp.append(columns['tcpsck'][index])\n",
    "\n",
    "    print('Media de conexões tcp: ', np.mean(list_tcp))\n",
    "\n",
    "\n",
    "def get_min_memory_utilization_for_cpu_lower_than_twenty_percent():\n",
    "    columns = extract_file_x()\n",
    "    min_memory = 100\n",
    "    for index, it in enumerate(columns['all_..idle']):\n",
    "        if it < 20:\n",
    "            min_memory = columns['X..memused'][index] if columns['X..memused'][index] < min_memory else min_memory\n",
    "    print('Minimo de memoria utilizada: ', min_memory)\n",
    "\n",
    "\n",
    "get_number_of_observations_larger_than_eighty_percent()\n",
    "get_mean_of_tec_with_more_than_eighteen_thousand_interrupts()\n",
    "get_min_memory_utilization_for_cpu_lower_than_twenty_percent()\n"
   ]
  },
  {
   "cell_type": "code",
   "execution_count": null,
   "metadata": {},
   "outputs": [],
   "source": []
  }
 ],
 "metadata": {
  "anaconda-cloud": {},
  "kernelspec": {
   "display_name": "Python 3",
   "language": "python",
   "name": "python3"
  },
  "language_info": {
   "codemirror_mode": {
    "name": "ipython",
    "version": 3
   },
   "file_extension": ".py",
   "mimetype": "text/x-python",
   "name": "python",
   "nbconvert_exporter": "python",
   "pygments_lexer": "ipython3",
   "version": "3.8.5"
  }
 },
 "nbformat": 4,
 "nbformat_minor": 4
}
